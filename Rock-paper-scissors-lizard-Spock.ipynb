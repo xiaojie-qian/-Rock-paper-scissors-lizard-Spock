{
 "cells": [
  {
   "cell_type": "markdown",
   "id": "861b1600",
   "metadata": {},
   "source": [
    "### Rock-paper-scissors-lizard-Spock (RPSLS) is a variant of Rock-paper-scissors that allows five choices. \n",
    "\n",
    "#### Each choice wins against two other choices, loses against two other choices and ties against itself. Much of RPSLS's popularity is that it has been featured in 3 episodes of the TV series \"The Big Bang Theory\". The Wikipedia entry for RPSLS gives the complete description of the details of the game.Scissors cuts Paper\n",
    "\n",
    "Paper covers Rock\n",
    "Rock crushes Lizard\n",
    "Lizard poisons Spock\n",
    "Spock smashes Scissors\n",
    "Scissors decapitates Lizard\n",
    "Lizard eats Paper\n",
    "Paper disproves Spock\n",
    "Spock vaporizes Rock\n",
    "(and as it always has) Rock crushes Scissors"
   ]
  },
  {
   "cell_type": "code",
   "execution_count": 55,
   "id": "95fa9881",
   "metadata": {},
   "outputs": [],
   "source": [
    "import random"
   ]
  },
  {
   "cell_type": "code",
   "execution_count": 12,
   "id": "e90669d9",
   "metadata": {},
   "outputs": [],
   "source": [
    "def name_to_number(name):\n",
    "    '''Build a helper function name_to_number that converts the string names - rock, spock, paper, lizard or scissors- into a number between 0 and 4'''\n",
    "    if name == 'rock':\n",
    "        name_to_number = 0\n",
    "    elif name == 'spock': \n",
    "        name_to_number = 1\n",
    "    elif name == 'paper': \n",
    "        name_to_number = 2\n",
    "    elif name == 'lizard': \n",
    "        name_to_number = 3\n",
    "    elif name == 'scissors': \n",
    "        name_to_number = 4\n",
    "    else:\n",
    "        print ('Please input rock, spock, paper, lizard or scissors')\n",
    "    return name_to_number"
   ]
  },
  {
   "cell_type": "code",
   "execution_count": 13,
   "id": "78e1c4e1",
   "metadata": {},
   "outputs": [
    {
     "name": "stdout",
     "output_type": "stream",
     "text": [
      "1\n"
     ]
    }
   ],
   "source": [
    "name_to_number('spock')"
   ]
  },
  {
   "cell_type": "code",
   "execution_count": 34,
   "id": "8d11bf21",
   "metadata": {},
   "outputs": [],
   "source": [
    "def number_to_name(number):\n",
    "    '''Build a helper function number_to_name that converts number between 0 and 4 into string names - rock, spock, paper, lizard or scissors'''\n",
    "    if  number == 0:\n",
    "        number_to_name = 'rock'\n",
    "    elif number == 1: \n",
    "        number_to_name = 'Spock'\n",
    "    elif number == 2: \n",
    "        number_to_name = 'paper'\n",
    "    elif number == 3: \n",
    "        number_to_name = 'lizard'\n",
    "    elif number == 4: \n",
    "        number_to_name = 'scissors'\n",
    "    else:\n",
    "        print ('please input a number between 0 to 4')\n",
    "    return number_to_name"
   ]
  },
  {
   "cell_type": "code",
   "execution_count": 36,
   "id": "78a15c23",
   "metadata": {},
   "outputs": [
    {
     "data": {
      "text/plain": [
       "'scissors'"
      ]
     },
     "execution_count": 36,
     "metadata": {},
     "output_type": "execute_result"
    }
   ],
   "source": [
    "number_to_name(4)"
   ]
  },
  {
   "cell_type": "markdown",
   "id": "44c05694",
   "metadata": {},
   "source": [
    "#### Below is the complete program of the mini-game: "
   ]
  },
  {
   "cell_type": "code",
   "execution_count": 134,
   "id": "681606da",
   "metadata": {},
   "outputs": [
    {
     "name": "stdout",
     "output_type": "stream",
     "text": [
      "\n",
      "\n"
     ]
    }
   ],
   "source": [
    "print (\"\\n\")\n",
    "def rpsls(player_choice): \n",
    "    def name_to_number(player_choice):\n",
    "        if player_choice == 'rock':\n",
    "            print (\"Player chooces \"+ player_choice)\n",
    "            name_to_number = 0\n",
    "        elif player_choice == 'spock': \n",
    "            print (\"Player chooces \"+ player_choice)\n",
    "            name_to_number = 1\n",
    "        elif player_choice == 'paper':     \n",
    "            print (\"Player chooces \"+ player_choice)\n",
    "            name_to_number = 2\n",
    "        elif player_choice == 'lizard':    \n",
    "            print (\"Player chooces \"+ player_choice) \n",
    "            name_to_number = 3\n",
    "        elif player_choice == 'scissors':     \n",
    "            print (\"Player chooces \"+ player_choice)\n",
    "            name_to_number = 4\n",
    "        else:\n",
    "            print ('Please input rock, spock, paper, lizard or scissors')\n",
    "        return name_to_number\n",
    "    number = random.randrange(0,5)\n",
    "    def number_to_name(number):\n",
    "        if  number == 0:\n",
    "            number_to_name = 'rock'\n",
    "        elif number == 1: \n",
    "            number_to_name = 'Spock'\n",
    "        elif number == 2: \n",
    "            number_to_name = 'paper'\n",
    "        elif number == 3: \n",
    "            number_to_name = 'lizard'\n",
    "        elif number == 4: \n",
    "            number_to_name = 'scissors'\n",
    "        else:\n",
    "            print ('please input a number between 0 to 4')\n",
    "        return number_to_name\n",
    "    \n",
    "    player_number = name_to_number(player_choice)\n",
    "    computer_choice = number_to_name(number)\n",
    "    print('Computer choices '+ computer_choice)\n",
    "    if player_number - number in range(1,3):\n",
    "        print('Player wins!')\n",
    "    elif number - player_number in range(1,3):\n",
    "        print('Computer wins!')\n",
    "    else: \n",
    "        print('Player and computer tie!')\n",
    "    return rpsls"
   ]
  },
  {
   "cell_type": "code",
   "execution_count": 135,
   "id": "efad394a",
   "metadata": {},
   "outputs": [
    {
     "name": "stdout",
     "output_type": "stream",
     "text": [
      "Player chooces lizard\n",
      "Computer choices paper\n",
      "Player wins!\n"
     ]
    },
    {
     "data": {
      "text/plain": [
       "<function __main__.rpsls(player_choice)>"
      ]
     },
     "execution_count": 135,
     "metadata": {},
     "output_type": "execute_result"
    }
   ],
   "source": [
    "rpsls('lizard')"
   ]
  },
  {
   "cell_type": "code",
   "execution_count": 136,
   "id": "d5084d35",
   "metadata": {},
   "outputs": [
    {
     "name": "stdout",
     "output_type": "stream",
     "text": [
      "Player chooces paper\n",
      "Computer choices Spock\n",
      "Player wins!\n"
     ]
    },
    {
     "data": {
      "text/plain": [
       "<function __main__.rpsls(player_choice)>"
      ]
     },
     "execution_count": 136,
     "metadata": {},
     "output_type": "execute_result"
    }
   ],
   "source": [
    "rpsls('paper')"
   ]
  },
  {
   "cell_type": "code",
   "execution_count": 137,
   "id": "5e5c41ee",
   "metadata": {
    "scrolled": true
   },
   "outputs": [
    {
     "name": "stdout",
     "output_type": "stream",
     "text": [
      "Player chooces scissors\n",
      "Computer choices scissors\n",
      "Player and computer tie!\n"
     ]
    },
    {
     "data": {
      "text/plain": [
       "<function __main__.rpsls(player_choice)>"
      ]
     },
     "execution_count": 137,
     "metadata": {},
     "output_type": "execute_result"
    }
   ],
   "source": [
    "rpsls('scissors')"
   ]
  },
  {
   "cell_type": "code",
   "execution_count": 138,
   "id": "65d702f7",
   "metadata": {},
   "outputs": [
    {
     "name": "stdout",
     "output_type": "stream",
     "text": [
      "Player chooces rock\n",
      "Computer choices paper\n",
      "Computer wins!\n"
     ]
    },
    {
     "data": {
      "text/plain": [
       "<function __main__.rpsls(player_choice)>"
      ]
     },
     "execution_count": 138,
     "metadata": {},
     "output_type": "execute_result"
    }
   ],
   "source": [
    "rpsls('rock')"
   ]
  },
  {
   "cell_type": "code",
   "execution_count": 139,
   "id": "90a5e5ab",
   "metadata": {},
   "outputs": [
    {
     "name": "stdout",
     "output_type": "stream",
     "text": [
      "Player chooces spock\n",
      "Computer choices lizard\n",
      "Computer wins!\n"
     ]
    },
    {
     "data": {
      "text/plain": [
       "<function __main__.rpsls(player_choice)>"
      ]
     },
     "execution_count": 139,
     "metadata": {},
     "output_type": "execute_result"
    }
   ],
   "source": [
    "rpsls('spock')"
   ]
  },
  {
   "cell_type": "markdown",
   "id": "b4bda826",
   "metadata": {},
   "source": [
    "#### Input your parameter into rpsls()"
   ]
  },
  {
   "cell_type": "code",
   "execution_count": null,
   "id": "69b0f1b1",
   "metadata": {},
   "outputs": [],
   "source": []
  }
 ],
 "metadata": {
  "kernelspec": {
   "display_name": "Python 3 (ipykernel)",
   "language": "python",
   "name": "python3"
  },
  "language_info": {
   "codemirror_mode": {
    "name": "ipython",
    "version": 3
   },
   "file_extension": ".py",
   "mimetype": "text/x-python",
   "name": "python",
   "nbconvert_exporter": "python",
   "pygments_lexer": "ipython3",
   "version": "3.9.12"
  }
 },
 "nbformat": 4,
 "nbformat_minor": 5
}
