{
 "cells": [
  {
   "cell_type": "markdown",
   "id": "861b1600",
   "metadata": {},
   "source": [
    "### Rock-paper-scissors-lizard-Spock (RPSLS) is a variant of Rock-paper-scissors that allows five choices. \n",
    "\n",
    "#### Each choice wins against two other choices, loses against two other choices and ties against itself. Much of RPSLS's popularity is that it has been featured in 3 episodes of the TV series \"The Big Bang Theory\". The Wikipedia entry for RPSLS gives the complete description of the details of the game.Scissors cuts Paper\n",
    "\n",
    "Paper covers Rock\n",
    "Rock crushes Lizard\n",
    "Lizard poisons Spock\n",
    "Spock smashes Scissors\n",
    "Scissors decapitates Lizard\n",
    "Lizard eats Paper\n",
    "Paper disproves Spock\n",
    "Spock vaporizes Rock\n",
    "(and as it always has) Rock crushes Scissors"
   ]
  },
  {
   "cell_type": "markdown",
   "id": "44c05694",
   "metadata": {},
   "source": [
    "#### Below is the complete program of the mini-game: "
   ]
  },
  {
   "cell_type": "code",
   "execution_count": 13,
   "id": "95fa9881",
   "metadata": {},
   "outputs": [],
   "source": [
    "import random"
   ]
  },
  {
   "cell_type": "code",
   "execution_count": 46,
   "id": "e90669d9",
   "metadata": {},
   "outputs": [],
   "source": [
    "def name_to_number(name):\n",
    "    '''Build a helper function name_to_number that converts the string names - rock, spock, paper, lizard or scissors- into a number between 0 and 4'''\n",
    "    if name == 'rock':\n",
    "        return 0\n",
    "    elif name == 'Spock': \n",
    "        return 1\n",
    "    elif name == 'paper': \n",
    "        return 2\n",
    "    elif name == 'lizard': \n",
    "        return 3\n",
    "    elif name == 'scissors': \n",
    "        return 4\n",
    "    else:\n",
    "        print ('Please input rock, spock, paper, lizard or scissors')\n"
   ]
  },
  {
   "cell_type": "code",
   "execution_count": 30,
   "id": "78e1c4e1",
   "metadata": {},
   "outputs": [
    {
     "data": {
      "text/plain": [
       "1"
      ]
     },
     "execution_count": 30,
     "metadata": {},
     "output_type": "execute_result"
    }
   ],
   "source": [
    "name_to_number('spock')"
   ]
  },
  {
   "cell_type": "code",
   "execution_count": 31,
   "id": "8d11bf21",
   "metadata": {},
   "outputs": [],
   "source": [
    "def number_to_name(number):\n",
    "    '''Build a helper function number_to_name that converts number between 0 and 4 into string names - rock, spock, paper, lizard or scissors'''\n",
    "    if  number == 0:\n",
    "        return 'rock'\n",
    "    elif number == 1: \n",
    "        return 'Spock'\n",
    "    elif number == 2: \n",
    "        return 'paper'\n",
    "    elif number == 3: \n",
    "        return 'lizard'\n",
    "    elif number == 4: \n",
    "        return 'scissors'\n",
    "    else:\n",
    "        print ('please input a number between 0 to 4')"
   ]
  },
  {
   "cell_type": "code",
   "execution_count": 32,
   "id": "78a15c23",
   "metadata": {},
   "outputs": [
    {
     "data": {
      "text/plain": [
       "'scissors'"
      ]
     },
     "execution_count": 32,
     "metadata": {},
     "output_type": "execute_result"
    }
   ],
   "source": [
    "number_to_name(4)"
   ]
  },
  {
   "cell_type": "code",
   "execution_count": 55,
   "id": "90a5e5ab",
   "metadata": {},
   "outputs": [],
   "source": [
    "def rpsls(player_choice):\n",
    "    print (\"\\n\")\n",
    "    print (\"Player choices \"+ player_choice)\n",
    "    player_number = name_to_number(player_choice)\n",
    "    comp_number = random.randint(0,4)\n",
    "    comp_choice = number_to_name(comp_number)    \n",
    "    print('Computer choices '+ comp_choice)\n",
    "    modulo = (comp_number - player_number)%5\n",
    "    if modulo == 1 or modulo == 2:\n",
    "        print(\"Computer wins!\")\n",
    "    elif modulo == 3 or modulo == 4:\n",
    "        print(\"Player wins!\")\n",
    "    else: \n",
    "        print(\"Player and computer tie!\")"
   ]
  },
  {
   "cell_type": "markdown",
   "id": "b4bda826",
   "metadata": {},
   "source": [
    "#### Input your parameter into rpsls()"
   ]
  },
  {
   "cell_type": "code",
   "execution_count": 54,
   "id": "16504daa",
   "metadata": {},
   "outputs": [
    {
     "name": "stdout",
     "output_type": "stream",
     "text": [
      "\n",
      "\n",
      "Player choices rock\n",
      "Computer choices scissors\n",
      "Player wins!\n",
      "\n",
      "\n",
      "Player choices Spock\n",
      "Computer choices lizard\n",
      "Computer wins!\n",
      "\n",
      "\n",
      "Player choices paper\n",
      "Computer choices Spock\n",
      "Player wins!\n",
      "\n",
      "\n",
      "Player choices lizard\n",
      "Computer choices scissors\n",
      "Computer wins!\n",
      "\n",
      "\n",
      "Player choices scissors\n",
      "Computer choices paper\n",
      "Player wins!\n"
     ]
    }
   ],
   "source": [
    "rpsls(\"rock\")\n",
    "rpsls(\"Spock\")\n",
    "rpsls(\"paper\")\n",
    "rpsls(\"lizard\")\n",
    "rpsls(\"scissors\")"
   ]
  },
  {
   "cell_type": "code",
   "execution_count": null,
   "id": "9a6f0b11",
   "metadata": {},
   "outputs": [],
   "source": []
  }
 ],
 "metadata": {
  "kernelspec": {
   "display_name": "Python 3 (ipykernel)",
   "language": "python",
   "name": "python3"
  },
  "language_info": {
   "codemirror_mode": {
    "name": "ipython",
    "version": 3
   },
   "file_extension": ".py",
   "mimetype": "text/x-python",
   "name": "python",
   "nbconvert_exporter": "python",
   "pygments_lexer": "ipython3",
   "version": "3.9.12"
  }
 },
 "nbformat": 4,
 "nbformat_minor": 5
}
